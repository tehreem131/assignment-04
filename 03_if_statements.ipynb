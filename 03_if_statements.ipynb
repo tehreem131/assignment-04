{
  "nbformat": 4,
  "nbformat_minor": 0,
  "metadata": {
    "colab": {
      "provenance": [],
      "authorship_tag": "ABX9TyMEfk5b9/fIj4YYfl3ppUZe",
      "include_colab_link": true
    },
    "kernelspec": {
      "name": "python3",
      "display_name": "Python 3"
    },
    "language_info": {
      "name": "python"
    }
  },
  "cells": [
    {
      "cell_type": "markdown",
      "metadata": {
        "id": "view-in-github",
        "colab_type": "text"
      },
      "source": [
        "<a href=\"https://colab.research.google.com/github/tehreem131/assignment-04/blob/main/03_if_statements.ipynb\" target=\"_parent\"><img src=\"https://colab.research.google.com/assets/colab-badge.svg\" alt=\"Open In Colab\"/></a>"
      ]
    },
    {
      "cell_type": "code",
      "execution_count": 1,
      "metadata": {
        "id": "k24DY7zta5is",
        "colab": {
          "base_uri": "https://localhost:8080/"
        },
        "outputId": "67e45de2-b4e5-4e82-c283-10175e00ce05"
      },
      "outputs": [
        {
          "output_type": "stream",
          "name": "stdout",
          "text": [
            "01_print_events\n",
            "0\n",
            "2\n",
            "4\n",
            "6\n",
            "8\n",
            "10\n",
            "12\n",
            "14\n",
            "16\n",
            "18\n",
            "20\n",
            "22\n",
            "24\n",
            "26\n",
            "28\n",
            "30\n",
            "32\n",
            "34\n",
            "36\n",
            "38\n"
          ]
        }
      ],
      "source": [
        "print(\"01_print_events\")\n",
        "\n",
        "def even():\n",
        "  for i in range(20):\n",
        "    even = i*2\n",
        "    print(even)\n",
        "  #  print(\"Here is 20 even numbers are: \",i * 2)\n",
        "\n",
        "\n",
        "if __name__ == \"__main__\":\n",
        "  even()"
      ]
    },
    {
      "cell_type": "code",
      "source": [
        "print(\"02_international_voting_age\")\n",
        "\n",
        "Peturksbouipo:int = 16\n",
        "Stanlau:int = 25\n",
        "Mayengua:int = 48\n",
        "age:int = int(input(\"How old are you?\"))\n",
        "\n",
        "def main():\n",
        "\n",
        "  if age >= Peturksbouipo:\n",
        "    print(f\"Your age is {age}.you are eligible to vote in Peturksbouipo!\")\n",
        "  else:\n",
        "    print(f\"Your age is {age}.you are not eligible to vote in Peturksbouipo!\")\n",
        "\n",
        "\n",
        "if age >= Stanlau:\n",
        "      print(f\"Your age is {age}.you are eligible to vote in Stanlau!\")\n",
        "else:\n",
        "      print(f\"Your age is {age}.you are not eligible to vote in Stanlau!\")\n",
        "\n",
        "\n",
        "if age >= Mayengua:\n",
        "      print(f\"Your age is {age}.you are eligible to vote in Mayengua!\")\n",
        "else:\n",
        "      print(f\"Your age is {age}.you are not eligible to vote in Mayengua!\")\n",
        "\n",
        "if __name__ == \"__main__\":\n",
        "  main()"
      ],
      "metadata": {
        "colab": {
          "base_uri": "https://localhost:8080/"
        },
        "id": "9ibFAov0fnEe",
        "outputId": "44a9ae05-e844-49e5-8336-145ae6d03ec5"
      },
      "execution_count": 2,
      "outputs": [
        {
          "output_type": "stream",
          "name": "stdout",
          "text": [
            "02_international_voting_age\n",
            "How old are you?20\n",
            "Your age is 20.you are not eligible to vote in Stanlau!\n",
            "Your age is 20.you are not eligible to vote in Mayengua!\n",
            "Your age is 20.you are eligible to vote in Peturksbouipo!\n"
          ]
        }
      ]
    },
    {
      "cell_type": "code",
      "source": [
        "print(\"03_leap_year\")\n",
        "\n",
        "def leap_year():\n",
        "  year:int = int(input(\"Enter as year.\"))\n",
        "\n",
        "  if year % 4 == 0:\n",
        "    if year % 100 == 0:\n",
        "      if year % 400 == 0:\n",
        "        print(f'{year} is a leap year.')\n",
        "      else:\n",
        "        print(f\"{year} is not a leap year.\")\n",
        "    else:\n",
        "      print(f'{year} is not a leap year.')\n",
        "  else:\n",
        "    print(f\"{year} is not a leap year.\")\n",
        "\n",
        "if __name__ == \"__main__\":\n",
        "  leap_year()\n"
      ],
      "metadata": {
        "colab": {
          "base_uri": "https://localhost:8080/"
        },
        "id": "N-3GaLzPf5Kj",
        "outputId": "21590e54-9b20-47fe-9068-405e3da112c1"
      },
      "execution_count": 3,
      "outputs": [
        {
          "output_type": "stream",
          "name": "stdout",
          "text": [
            "03_leap_year\n",
            "Enter as year.2034\n",
            "2034 is not a leap year.\n"
          ]
        }
      ]
    },
    {
      "cell_type": "code",
      "source": [
        "print(\"04_tall_enough_to_ride\")\n",
        "\n",
        "min_height:int = 50\n",
        "def main():\n",
        "  user:int = int(input(\"How tall are you? \"))\n",
        "  if user >= min_height:\n",
        "    print(\"you are tall enough to ride\")\n",
        "  else:\n",
        "    print(\"you are not tall enough to ride.May be next year.\")\n",
        "\n",
        "if __name__ == \"__main__\":\n",
        "  main()"
      ],
      "metadata": {
        "colab": {
          "base_uri": "https://localhost:8080/"
        },
        "id": "Y8JDbJvRgD7-",
        "outputId": "07ce5b77-a5a3-4284-daa6-cc196e9af691"
      },
      "execution_count": 4,
      "outputs": [
        {
          "output_type": "stream",
          "name": "stdout",
          "text": [
            "04_tall_enough_to_ride\n",
            "How tall are you? 4\n",
            "you are not tall enough to ride.May be next year.\n"
          ]
        }
      ]
    },
    {
      "cell_type": "code",
      "source": [
        "import random\n",
        "\n",
        "def main():\n",
        "  for i in range(10):\n",
        "    num:list[int] =  random.randint(1,100)\n",
        "    print(num)\n",
        "\n",
        "if __name__ == \"__main__\":\n",
        "  main()\n",
        ""
      ],
      "metadata": {
        "colab": {
          "base_uri": "https://localhost:8080/"
        },
        "id": "jmSSa9YqgNEz",
        "outputId": "2f33dea5-5730-4fe7-8371-b8cf214d2509"
      },
      "execution_count": 5,
      "outputs": [
        {
          "output_type": "stream",
          "name": "stdout",
          "text": [
            "59\n",
            "32\n",
            "48\n",
            "18\n",
            "88\n",
            "78\n",
            "23\n",
            "63\n",
            "29\n",
            "29\n"
          ]
        }
      ]
    }
  ]
}